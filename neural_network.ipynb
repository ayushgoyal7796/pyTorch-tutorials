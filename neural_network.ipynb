{
 "cells": [
  {
   "cell_type": "code",
   "execution_count": 1,
   "metadata": {},
   "outputs": [],
   "source": [
    "# Neural networks can be constructed using the torch.nn package\n",
    "# nn depends on autograd to define models and differentiate them.\n",
    "# nn.Module contains layers, and a method forward(input) that returns output."
   ]
  },
  {
   "cell_type": "code",
   "execution_count": 2,
   "metadata": {},
   "outputs": [],
   "source": [
    "# Convnet\n",
    "# It is a simple feed-forward network.It takes the input, feeds it through several layers one after the other, and then finally gives the output."
   ]
  },
  {
   "cell_type": "code",
   "execution_count": 3,
   "metadata": {},
   "outputs": [],
   "source": [
    "# A typical training procedure for a neural network is as follows:\n",
    "    # define the neural network that has some learnable parameters(or weights)\n",
    "    # iterate over a dataset of inputs\n",
    "    # process input through the network\n",
    "    # compute the loss\n",
    "    # propagate gradients back into the network's parameters\n",
    "    # update the weights of the network, typically using a simple update rule weight = weight - learning_rate * gradient"
   ]
  },
  {
   "cell_type": "code",
   "execution_count": 4,
   "metadata": {},
   "outputs": [
    {
     "name": "stdout",
     "output_type": "stream",
     "text": [
      "Net(\n",
      "  (conv1): Conv2d(1, 6, kernel_size=(5, 5), stride=(1, 1))\n",
      "  (conv2): Conv2d(6, 16, kernel_size=(5, 5), stride=(1, 1))\n",
      "  (fc1): Linear(in_features=400, out_features=120, bias=True)\n",
      "  (fc2): Linear(in_features=120, out_features=84, bias=True)\n",
      "  (fc3): Linear(in_features=84, out_features=10, bias=True)\n",
      ")\n"
     ]
    }
   ],
   "source": [
    "# Define the network:\n",
    "import torch\n",
    "import torch.nn as nn\n",
    "import torch.nn.functional as F\n",
    "\n",
    "class Net(nn.Module):\n",
    "    \n",
    "    def __init__(self):\n",
    "        super(Net, self).__init__()\n",
    "        # 1 input channel image, 6 output channels, 5 x 5 convolutions\n",
    "        # kernel\n",
    "        self.conv1 = nn.Conv2d(1, 6, 5)\n",
    "        self.conv2 = nn.Conv2d(6, 16, 5)\n",
    "        # an affine operation: y = Wx + b\n",
    "        self.fc1 = nn.Linear(16*5*5, 120)\n",
    "        self.fc2 = nn.Linear(120, 84)\n",
    "        self.fc3 = nn.Linear(84, 10)\n",
    "    \n",
    "    def forward(self, x):\n",
    "        # Max pooling over a (2, 2) window\n",
    "        x = F.max_pool2d(F.relu(self.conv1(x)), (2, 2))\n",
    "        # If the size is a square you can only specify a single number\n",
    "        x = F.max_pool2d(F.relu(self.conv2(x)), 2)\n",
    "        x = x.view(-1, self.num_flat_features(x))\n",
    "        x = F.relu(self.fc1(x))\n",
    "        x = F.relu(self.fc2(x))\n",
    "        x = self.fc3(x)\n",
    "        return x\n",
    "    \n",
    "    def num_flat_features(self, x):\n",
    "        size = x.size()[1:]   # all dimensions except the batch dimension\n",
    "        num_features = 1\n",
    "        for s in size:\n",
    "            num_features *= s\n",
    "        return num_features\n",
    "net = Net()\n",
    "print(net)"
   ]
  },
  {
   "cell_type": "code",
   "execution_count": 5,
   "metadata": {},
   "outputs": [
    {
     "name": "stdout",
     "output_type": "stream",
     "text": [
      "10\n",
      "torch.Size([6, 1, 5, 5])\n"
     ]
    }
   ],
   "source": [
    "# we just have to define the forward function, and the backward function (where gradients are computed) is automatically defined for us using autograd\n",
    "# we can use any of the Tensor operations in the forward function.\n",
    "# The learnable parameters of a model are returned by net.parameters()\n",
    "\n",
    "params = list(net.parameters())\n",
    "print(len(params))\n",
    "print(params[0].size())    # conv1's .weights"
   ]
  },
  {
   "cell_type": "code",
   "execution_count": 6,
   "metadata": {},
   "outputs": [
    {
     "name": "stdout",
     "output_type": "stream",
     "text": [
      "tensor([[ 0.0619, -0.0816,  0.0347, -0.0521, -0.1245, -0.1010,  0.1808, -0.0026,\n",
      "         -0.1364, -0.1164]], grad_fn=<ThAddmmBackward>)\n"
     ]
    }
   ],
   "source": [
    "# Expected input size of this net is 32 x 32. To use this on MNIST dataset we need to resize the images to 32 x 32.\n",
    "input = torch.randn(1, 1, 32, 32)\n",
    "out = net(input)\n",
    "print(out)"
   ]
  },
  {
   "cell_type": "code",
   "execution_count": 7,
   "metadata": {},
   "outputs": [],
   "source": [
    "# zero the gradient buffers of all parameters and backprop with random gradients\n",
    "net.zero_grad()\n",
    "out.backward(torch.randn(1, 10))"
   ]
  },
  {
   "cell_type": "code",
   "execution_count": 8,
   "metadata": {},
   "outputs": [],
   "source": [
    "# torch.nn only supports mini-batches. The entire torch.nn package only supports inputs which are a mini-batch of samples and not a single sample.\n",
    "# For example, nn.Conv2d will take in a 4D tensor of nSamples x nChannels x Height x Width.\n",
    "# If we have a single sample, just use input.unsqueeze(0) to add a fake batch dimension."
   ]
  },
  {
   "cell_type": "code",
   "execution_count": 9,
   "metadata": {},
   "outputs": [],
   "source": [
    "# Recap:\n",
    "    # torch.Tensor: A multi-dimensional array with support for autograd operations like backward(). Also holds gradients w.r.t. the tensor.\n",
    "    # nn.Module: Neural Network module. Convinient way of encapsulating parameters, with helpers for moving them to GPU, exporting, loading etc.\n",
    "    # nn.Parameters: A kind of Tensor, that is automatically registered as a parameter when assigned as an attribute to Module.\n",
    "    # autograd.Function: implements forward and backward definitions of an autograd operation. Every Tensor operation, creates at least a single Function node, that connects to functions that created a Tensor and encodes its history. "
   ]
  },
  {
   "cell_type": "code",
   "execution_count": 10,
   "metadata": {},
   "outputs": [],
   "source": [
    "# we covered:\n",
    "    # Defining a neural network.\n",
    "    # Processing inputs and calling  backwards\n",
    "# still left:\n",
    "    # Computing the Loss\n",
    "    # updating the weights of the network"
   ]
  },
  {
   "cell_type": "code",
   "execution_count": 11,
   "metadata": {},
   "outputs": [
    {
     "name": "stdout",
     "output_type": "stream",
     "text": [
      "tensor([[[[ 0.5620, -0.6591,  1.3516,  ..., -0.1924,  1.0999,  1.1851],\n",
      "          [-0.8484,  1.0788, -0.1082,  ...,  1.2050, -1.1887,  0.1815],\n",
      "          [ 1.1773, -0.8018,  0.5604,  ..., -0.6374, -1.3224,  0.0938],\n",
      "          ...,\n",
      "          [-2.7133, -0.3951,  0.4170,  ...,  1.7880, -0.8295, -0.1805],\n",
      "          [-0.2353, -0.9250,  1.4448,  ..., -0.6633,  0.7067,  0.3530],\n",
      "          [-1.4725,  0.5542, -0.5509,  ..., -1.5493, -1.8213,  1.0755]]]])\n",
      "tensor([[ 0.0619, -0.0816,  0.0347, -0.0521, -0.1245, -0.1010,  0.1808, -0.0026,\n",
      "         -0.1364, -0.1164]], grad_fn=<ThAddmmBackward>)\n",
      "tensor([ 0.3116, -1.9741,  0.7914,  0.1806,  0.5653, -0.5590, -0.6772, -0.4924,\n",
      "         1.3818, -0.1223])\n",
      "tensor([[ 0.3116, -1.9741,  0.7914,  0.1806,  0.5653, -0.5590, -0.6772, -0.4924,\n",
      "          1.3818, -0.1223]])\n",
      "tensor(0.8237, grad_fn=<MseLossBackward>)\n"
     ]
    }
   ],
   "source": [
    "# Loss Function\n",
    "# A loss function takes the (output, target) pair of inputs, and estimates how far away the output is from the target.\n",
    "# There are several loss functions under the nn.package.\n",
    "# A simple loss is nn.MSELoss which computes the mean-squared error between the input and the target.\n",
    "\n",
    "print(input)\n",
    "output = net(input)\n",
    "print(output)\n",
    "target = torch.randn(10)   # dummy target\n",
    "print(target)\n",
    "target = target.view(1, -1)   # make it the same shape as output\n",
    "print(target)\n",
    "criterion = nn.MSELoss()\n",
    "\n",
    "loss = criterion(output, target)\n",
    "print(loss)"
   ]
  },
  {
   "cell_type": "code",
   "execution_count": 12,
   "metadata": {},
   "outputs": [],
   "source": [
    "# now if we follow loss in backward direction, using its .grad_fn attribute, we will see a graph of computations that looks like this:\n",
    "# input -> conv2d -> relu -> maxpool2d -> conv2d -> relu -> maxpool2d\n",
    "#       -> view -> linear -> relu -> linear -> relu -> linear\n",
    "#       -> MSELoss\n",
    "#       -> loss"
   ]
  },
  {
   "cell_type": "code",
   "execution_count": 13,
   "metadata": {},
   "outputs": [
    {
     "name": "stdout",
     "output_type": "stream",
     "text": [
      "<MseLossBackward object at 0x000001CBC13CCFD0>\n",
      "<ThAddmmBackward object at 0x000001CBC13CCE80>\n",
      "<ExpandBackward object at 0x000001CBC13CCFD0>\n"
     ]
    }
   ],
   "source": [
    "# so when we call loss.backward(), the whole graph is differentiated w.r.t. the loss, and all Tensors in the graph that has requires_grad=True will have their .grad Tensor accumulated with the gradient.\n",
    "\n",
    "print(loss.grad_fn)   # MSELoss\n",
    "print(loss.grad_fn.next_functions[0][0])   # Linear\n",
    "print(loss.grad_fn.next_functions[0][0].next_functions[0][0])    # ReLU"
   ]
  },
  {
   "cell_type": "code",
   "execution_count": 14,
   "metadata": {},
   "outputs": [
    {
     "name": "stdout",
     "output_type": "stream",
     "text": [
      "conv1.bias.grad before backward\n",
      "tensor([0., 0., 0., 0., 0., 0.])\n",
      "conv1.bias.grad after backward\n",
      "tensor([ 0.0123, -0.0140, -0.0122, -0.0031, -0.0040,  0.0202])\n"
     ]
    }
   ],
   "source": [
    "# Backprop\n",
    "# To backpropagate the error all we have to do is to loss.backward().\n",
    "# You need to clear the existing gradients though, else gradients will be accumulated to existing gradients.\n",
    "net.zero_grad()\n",
    "\n",
    "print('conv1.bias.grad before backward')\n",
    "print(net.conv1.bias.grad)\n",
    "\n",
    "loss.backward()\n",
    "\n",
    "print('conv1.bias.grad after backward')\n",
    "print(net.conv1.bias.grad)"
   ]
  },
  {
   "cell_type": "code",
   "execution_count": 15,
   "metadata": {},
   "outputs": [],
   "source": [
    "# Update the weights\n",
    "# The simplest update rule used in practice is the Stochastic Gradient Descent (SGD):\n",
    "    # weight = weight - learning_rate * gradient\n",
    "# We can implement this using simple python code:\n",
    "learning_rate = 0.01\n",
    "for f in net.parameters():\n",
    "    f.data.sub_(f.grad.data*learning_rate)"
   ]
  },
  {
   "cell_type": "code",
   "execution_count": 16,
   "metadata": {},
   "outputs": [],
   "source": [
    "# However, as we are using neural networks, we want to use various different update rules such as SGD, Nesterov-SGD, Adam, RMSProp etc.\n",
    "# To enable this, a small package torch.optim implements all these methods."
   ]
  },
  {
   "cell_type": "code",
   "execution_count": 17,
   "metadata": {},
   "outputs": [],
   "source": [
    "import torch.optim as optim\n",
    "\n",
    "# create the optimizer\n",
    "optimizer = optim.SGD(net.parameters(), lr=0.01)\n",
    "\n",
    "# in the training loop:\n",
    "optimizer.zero_grad()   # zero the gradient buffers\n",
    "output = net(input)\n",
    "loss = criterion(output, target)\n",
    "loss.backward()\n",
    "optimizer.step()   # Does the update"
   ]
  },
  {
   "cell_type": "code",
   "execution_count": 18,
   "metadata": {},
   "outputs": [],
   "source": [
    "# Observe how gradient buffers had to be manually set to zero using optimizer.zero_grad().\n",
    "# This is because gradients are accumulated as explained in Backprop section."
   ]
  },
  {
   "cell_type": "code",
   "execution_count": null,
   "metadata": {},
   "outputs": [],
   "source": []
  }
 ],
 "metadata": {
  "kernelspec": {
   "display_name": "Python 3",
   "language": "python",
   "name": "python3"
  },
  "language_info": {
   "codemirror_mode": {
    "name": "ipython",
    "version": 3
   },
   "file_extension": ".py",
   "mimetype": "text/x-python",
   "name": "python",
   "nbconvert_exporter": "python",
   "pygments_lexer": "ipython3",
   "version": "3.6.5"
  }
 },
 "nbformat": 4,
 "nbformat_minor": 2
}
