{
 "cells": [
  {
   "cell_type": "code",
   "execution_count": 1,
   "metadata": {},
   "outputs": [],
   "source": [
    "# Data Parallel\n",
    "# we will learn how to use multiple GPUs using DataParallel.\n",
    "# It is very easy to use GPUs with pyTorch. we can put our model on a GPU:\n",
    "    # device = torch.device(\"cuda:0\")\n",
    "    # model.to(device)"
   ]
  },
  {
   "cell_type": "code",
   "execution_count": 2,
   "metadata": {},
   "outputs": [],
   "source": [
    "# It is natural to execute forward, backward propagations on multiple GPUs.\n",
    "# However, PyTorch will only use one GPU by default. \n",
    "# We can easily run our operations on multiple GPUs by making our model run parallelly using DataParallel\n",
    "    # model = nn.DataParallel(model)"
   ]
  },
  {
   "cell_type": "code",
   "execution_count": 3,
   "metadata": {},
   "outputs": [],
   "source": [
    "# Imports and Parameters\n",
    "\n",
    "import torch\n",
    "import torch.nn as nn\n",
    "from torch.utils.data import Dataset, DataLoader\n",
    "\n",
    "input_size = 5\n",
    "output_size = 2\n",
    "\n",
    "batch_size = 30\n",
    "data_size = 100"
   ]
  },
  {
   "cell_type": "code",
   "execution_count": 4,
   "metadata": {},
   "outputs": [],
   "source": [
    "device = torch.device(\"cuda:0\" if torch.cuda.is_available() else \"cpu\")"
   ]
  },
  {
   "cell_type": "code",
   "execution_count": 5,
   "metadata": {},
   "outputs": [],
   "source": [
    "# Dummy Dataset\n",
    "class RandomDataset(Dataset):\n",
    "    \n",
    "    def __init__(self, size, length):\n",
    "        self.len = length\n",
    "        self.data = torch.randn(length, size)\n",
    "    \n",
    "    def __getitem__(self, index):\n",
    "        return self.data[index]\n",
    "    \n",
    "    def __len__(self):\n",
    "        return self.len\n",
    "\n",
    "rand_loader = DataLoader(dataset=RandomDataset(input_size, data_size),\n",
    "                        batch_size=batch_size, shuffle=True)"
   ]
  },
  {
   "cell_type": "code",
   "execution_count": 6,
   "metadata": {},
   "outputs": [],
   "source": [
    "# Simple Model\n",
    "# Our model just gets an input, performs a linear operation, and gives an output.\n",
    "# Print statement inside the model has been placed to monitor the size of input and output tensors.\n",
    "\n",
    "class Model(nn.Module):\n",
    "    \n",
    "    def __init__(self, input_size, output_size):\n",
    "        super(Model, self).__init__()\n",
    "        self.fc = nn.Linear(input_size, output_size)\n",
    "        \n",
    "    def forward(self, input):\n",
    "        output = self.fc(input)\n",
    "        print(\"\\tIn Model: input size\", input.size(), \"output size\", output.size())\n",
    "        return output"
   ]
  },
  {
   "cell_type": "code",
   "execution_count": 7,
   "metadata": {},
   "outputs": [
    {
     "data": {
      "text/plain": [
       "Model(\n",
       "  (fc): Linear(in_features=5, out_features=2, bias=True)\n",
       ")"
      ]
     },
     "execution_count": 7,
     "metadata": {},
     "output_type": "execute_result"
    }
   ],
   "source": [
    "# create model and DataParallel\n",
    "# Make a model instance and check if we have multiple GPUs.\n",
    "# If we have multiple GPUs we can wrap our model using nn.DataParallel. Then we can put our model on GPUs by using model.to(device).\n",
    "\n",
    "model = Model(input_size, output_size)\n",
    "if torch.cuda.device_count() > 1:\n",
    "    print(\"Let's use \", torch.cuda.device_count(), \"GPUs!\")\n",
    "    model = nn.DataParallel(model)\n",
    "    \n",
    "model.to(device)"
   ]
  },
  {
   "cell_type": "code",
   "execution_count": 8,
   "metadata": {},
   "outputs": [
    {
     "name": "stdout",
     "output_type": "stream",
     "text": [
      "\tIn Model: input size torch.Size([30, 5]) output size torch.Size([30, 2])\n",
      "Outside: input_size torch.Size([30, 5]) output_size torch.Size([30, 2])\n",
      "\tIn Model: input size torch.Size([30, 5]) output size torch.Size([30, 2])\n",
      "Outside: input_size torch.Size([30, 5]) output_size torch.Size([30, 2])\n",
      "\tIn Model: input size torch.Size([30, 5]) output size torch.Size([30, 2])\n",
      "Outside: input_size torch.Size([30, 5]) output_size torch.Size([30, 2])\n",
      "\tIn Model: input size torch.Size([10, 5]) output size torch.Size([10, 2])\n",
      "Outside: input_size torch.Size([10, 5]) output_size torch.Size([10, 2])\n"
     ]
    }
   ],
   "source": [
    "# Run the Model\n",
    "# Now we can see the sizes of input and output tensors.\n",
    "for data in rand_loader:\n",
    "    input = data.to(device)\n",
    "    output = model(input)\n",
    "    print(\"Outside: input_size\", input.size(), \"output_size\", output.size())"
   ]
  },
  {
   "cell_type": "code",
   "execution_count": 9,
   "metadata": {},
   "outputs": [],
   "source": [
    "# Results\n",
    "# If we have no GPU or one GPU, when we batch 30 inputs and 30 ouputs, the model gets 30 and outputs 30 as expected but if we have multiple GPUs we can get results like this:"
   ]
  },
  {
   "cell_type": "code",
   "execution_count": 10,
   "metadata": {},
   "outputs": [],
   "source": [
    "# 2 GPUs\n",
    "#Let's use 2 GPUs!\n",
    "#    In Model: input size torch.Size([15, 5]) output size torch.Size([15, 2])\n",
    "#    In Model: input size torch.Size([15, 5]) output size torch.Size([15, 2])\n",
    "#Outside: input size torch.Size([30, 5]) output_size torch.Size([30, 2])\n",
    "#    In Model: input size torch.Size([15, 5]) output size torch.Size([15, 2])\n",
    "#    In Model: input size torch.Size([15, 5]) output size torch.Size([15, 2])\n",
    "#Outside: input size torch.Size([30, 5]) output_size torch.Size([30, 2])\n",
    "#    In Model: input size torch.Size([15, 5]) output size torch.Size([15, 2])\n",
    "#    In Model: input size torch.Size([15, 5]) output size torch.Size([15, 2])\n",
    "#Outside: input size torch.Size([30, 5]) output_size torch.Size([30, 2])\n",
    "#    In Model: input size torch.Size([5, 5]) output size torch.Size([5, 2])\n",
    "#    In Model: input size torch.Size([5, 5]) output size torch.Size([5, 2])\n",
    "#Outside: input size torch.Size([10, 5]) output_size torch.Size([10, 2])"
   ]
  },
  {
   "cell_type": "code",
   "execution_count": 11,
   "metadata": {},
   "outputs": [],
   "source": [
    "# 3 GPUs\n",
    "#Let's use 3 GPUs!\n",
    "#    In Model: input size torch.Size([10, 5]) output size torch.Size([10, 2])\n",
    "#    In Model: input size torch.Size([10, 5]) output size torch.Size([10, 2])\n",
    "#    In Model: input size torch.Size([10, 5]) output size torch.Size([10, 2])\n",
    "#Outside: input size torch.Size([30, 5]) output_size torch.Size([30, 2])\n",
    "#    In Model: input size torch.Size([10, 5]) output size torch.Size([10, 2])\n",
    "#    In Model: input size torch.Size([10, 5]) output size torch.Size([10, 2])\n",
    "#    In Model: input size torch.Size([10, 5]) output size torch.Size([10, 2])\n",
    "#Outside: input size torch.Size([30, 5]) output_size torch.Size([30, 2])\n",
    "#    In Model: input size torch.Size([10, 5]) output size torch.Size([10, 2])\n",
    "#    In Model: input size torch.Size([10, 5]) output size torch.Size([10, 2])\n",
    "#    In Model: input size torch.Size([10, 5]) output size torch.Size([10, 2])\n",
    "#Outside: input size torch.Size([30, 5]) output_size torch.Size([30, 2])\n",
    "#    In Model: input size torch.Size([4, 5]) output size torch.Size([4, 2])\n",
    "#    In Model: input size torch.Size([4, 5]) output size torch.Size([4, 2])\n",
    "#    In Model: input size torch.Size([2, 5]) output size torch.Size([2, 2])\n",
    "#Outside: input size torch.Size([10, 5]) output_size torch.Size([10, 2])"
   ]
  },
  {
   "cell_type": "code",
   "execution_count": 12,
   "metadata": {},
   "outputs": [],
   "source": [
    "# 8 GPUs\n",
    "#Let's use 8 GPUs!\n",
    "#    In Model: input size torch.Size([4, 5]) output size torch.Size([4, 2])\n",
    "#    In Model: input size torch.Size([4, 5]) output size torch.Size([4, 2])\n",
    "#    In Model: input size torch.Size([2, 5]) output size torch.Size([2, 2])\n",
    "#    In Model: input size torch.Size([4, 5]) output size torch.Size([4, 2])\n",
    "#    In Model: input size torch.Size([4, 5]) output size torch.Size([4, 2])\n",
    "#    In Model: input size torch.Size([4, 5]) output size torch.Size([4, 2])\n",
    "#    In Model: input size torch.Size([4, 5]) output size torch.Size([4, 2])\n",
    "#    In Model: input size torch.Size([4, 5]) output size torch.Size([4, 2])\n",
    "#Outside: input size torch.Size([30, 5]) output_size torch.Size([30, 2])\n",
    "#    In Model: input size torch.Size([4, 5]) output size torch.Size([4, 2])\n",
    "#    In Model: input size torch.Size([4, 5]) output size torch.Size([4, 2])\n",
    "#    In Model: input size torch.Size([4, 5]) output size torch.Size([4, 2])\n",
    "#    In Model: input size torch.Size([4, 5]) output size torch.Size([4, 2])\n",
    "#    In Model: input size torch.Size([4, 5]) output size torch.Size([4, 2])\n",
    "#    In Model: input size torch.Size([4, 5]) output size torch.Size([4, 2])\n",
    "#    In Model: input size torch.Size([2, 5]) output size torch.Size([2, 2])\n",
    "#    In Model: input size torch.Size([4, 5]) output size torch.Size([4, 2])\n",
    "#Outside: input size torch.Size([30, 5]) output_size torch.Size([30, 2])\n",
    "#    In Model: input size torch.Size([4, 5]) output size torch.Size([4, 2])\n",
    "#    In Model: input size torch.Size([4, 5]) output size torch.Size([4, 2])\n",
    "#    In Model: input size torch.Size([4, 5]) output size torch.Size([4, 2])\n",
    "#    In Model: input size torch.Size([4, 5]) output size torch.Size([4, 2])\n",
    "#    In Model: input size torch.Size([4, 5]) output size torch.Size([4, 2])\n",
    "#    In Model: input size torch.Size([4, 5]) output size torch.Size([4, 2])\n",
    "#    In Model: input size torch.Size([2, 5]) output size torch.Size([2, 2])\n",
    "#Outside: input size torch.Size([30, 5]) output_size torch.Size([30, 2])\n",
    "#    In Model: input size torch.Size([2, 5]) output size torch.Size([2, 2])\n",
    "#    In Model: input size torch.Size([2, 5]) output size torch.Size([2, 2])\n",
    "#    In Model: input size torch.Size([2, 5]) output size torch.Size([2, 2])\n",
    "#    In Model: input size torch.Size([2, 5]) output size torch.Size([2, 2])\n",
    "#    In Model: input size torch.Size([2, 5]) output size torch.Size([2, 2])\n",
    "#Outside: input size torch.Size([10, 5]) output_size torch.Size([10, 2])"
   ]
  },
  {
   "cell_type": "code",
   "execution_count": null,
   "metadata": {},
   "outputs": [],
   "source": []
  }
 ],
 "metadata": {
  "kernelspec": {
   "display_name": "Python 3",
   "language": "python",
   "name": "python3"
  },
  "language_info": {
   "codemirror_mode": {
    "name": "ipython",
    "version": 3
   },
   "file_extension": ".py",
   "mimetype": "text/x-python",
   "name": "python",
   "nbconvert_exporter": "python",
   "pygments_lexer": "ipython3",
   "version": "3.6.5"
  }
 },
 "nbformat": 4,
 "nbformat_minor": 2
}
