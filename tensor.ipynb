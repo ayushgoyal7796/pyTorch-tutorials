{
 "cells": [
  {
   "cell_type": "code",
   "execution_count": 1,
   "metadata": {},
   "outputs": [],
   "source": [
    "# PyTorch is a Python based scientific computing package targetted at two sets of audiences : \n",
    "    # A replacement of NumPy to use the power of GPUs\n",
    "    # A deep Learning research platform that provides maximum flexibility and speed"
   ]
  },
  {
   "cell_type": "code",
   "execution_count": 2,
   "metadata": {},
   "outputs": [],
   "source": [
    "# Tensors are similar to NumPy's ndarrays but can also be used on GPU to accelerate computing."
   ]
  },
  {
   "cell_type": "code",
   "execution_count": 3,
   "metadata": {},
   "outputs": [],
   "source": [
    "from __future__ import print_function\n",
    "import torch"
   ]
  },
  {
   "cell_type": "code",
   "execution_count": 4,
   "metadata": {},
   "outputs": [
    {
     "name": "stdout",
     "output_type": "stream",
     "text": [
      "tensor([[0.0000, 0.0000, 0.0000],\n",
      "        [0.0000, 0.0000, 0.0000],\n",
      "        [0.0000, 0.0000, 0.0000],\n",
      "        [0.0000, 0.0000, 0.0000],\n",
      "        [0.0000, 0.0000, 0.0000]])\n"
     ]
    }
   ],
   "source": [
    "# Construct a 5 x 3 matrix, uninitialized\n",
    "x = torch.empty(5, 3)\n",
    "print(x)"
   ]
  },
  {
   "cell_type": "code",
   "execution_count": 5,
   "metadata": {},
   "outputs": [
    {
     "name": "stdout",
     "output_type": "stream",
     "text": [
      "tensor([[0.6363, 0.6126, 0.7458],\n",
      "        [0.0010, 0.4264, 0.8753],\n",
      "        [0.0050, 0.7444, 0.2790],\n",
      "        [0.7329, 0.3459, 0.7260],\n",
      "        [0.0181, 0.2812, 0.6640]])\n"
     ]
    }
   ],
   "source": [
    "# Construct a randomly initialized matrix\n",
    "x = torch.rand(5, 3)\n",
    "print(x)"
   ]
  },
  {
   "cell_type": "code",
   "execution_count": 6,
   "metadata": {},
   "outputs": [
    {
     "name": "stdout",
     "output_type": "stream",
     "text": [
      "tensor([[0, 0, 0],\n",
      "        [0, 0, 0],\n",
      "        [0, 0, 0],\n",
      "        [0, 0, 0],\n",
      "        [0, 0, 0]])\n"
     ]
    }
   ],
   "source": [
    "# Construct a matrix filled with zeros and dtype long\n",
    "x = torch.zeros(5, 3, dtype=torch.long)\n",
    "print(x)"
   ]
  },
  {
   "cell_type": "code",
   "execution_count": 7,
   "metadata": {},
   "outputs": [
    {
     "name": "stdout",
     "output_type": "stream",
     "text": [
      "tensor([5.5000, 3.0000])\n"
     ]
    }
   ],
   "source": [
    "# Construct a tensor directly from data\n",
    "x = torch.tensor([5.5, 3])\n",
    "print(x)"
   ]
  },
  {
   "cell_type": "code",
   "execution_count": 8,
   "metadata": {},
   "outputs": [
    {
     "name": "stdout",
     "output_type": "stream",
     "text": [
      "tensor([[1., 1., 1.],\n",
      "        [1., 1., 1.],\n",
      "        [1., 1., 1.],\n",
      "        [1., 1., 1.],\n",
      "        [1., 1., 1.]], dtype=torch.float64)\n",
      "tensor([[-0.4394, -0.3692,  0.0944],\n",
      "        [ 2.2438, -0.1967,  0.5155],\n",
      "        [-0.1491,  0.5565,  1.6025],\n",
      "        [-0.8143, -0.0441, -0.3374],\n",
      "        [ 0.0592,  0.3460, -0.8106]])\n"
     ]
    }
   ],
   "source": [
    "# Create a tensor based on existing tensor. These methods will reuse the properties of input tensor, e.g. dtype, unless new values are provided.\n",
    "x = x.new_ones(5, 3, dtype=torch.double)    # new_* method takes in sizes\n",
    "print(x)\n",
    "\n",
    "x = torch.randn_like(x, dtype=torch.float)   # override dtype!\n",
    "print(x)                                     # result has the same size"
   ]
  },
  {
   "cell_type": "code",
   "execution_count": 9,
   "metadata": {},
   "outputs": [
    {
     "name": "stdout",
     "output_type": "stream",
     "text": [
      "torch.Size([5, 3])\n"
     ]
    }
   ],
   "source": [
    "# Get its size\n",
    "print(x.size())"
   ]
  },
  {
   "cell_type": "code",
   "execution_count": 10,
   "metadata": {},
   "outputs": [
    {
     "name": "stdout",
     "output_type": "stream",
     "text": [
      "tensor([[ 0.4573,  0.6082,  0.2314],\n",
      "        [ 3.1350,  0.0340,  1.0678],\n",
      "        [ 0.7953,  1.1418,  1.8750],\n",
      "        [ 0.1357,  0.1275,  0.5927],\n",
      "        [ 0.3390,  0.8868, -0.4258]])\n",
      "tensor([[ 0.4573,  0.6082,  0.2314],\n",
      "        [ 3.1350,  0.0340,  1.0678],\n",
      "        [ 0.7953,  1.1418,  1.8750],\n",
      "        [ 0.1357,  0.1275,  0.5927],\n",
      "        [ 0.3390,  0.8868, -0.4258]])\n",
      "tensor([[ 0.4573,  0.6082,  0.2314],\n",
      "        [ 3.1350,  0.0340,  1.0678],\n",
      "        [ 0.7953,  1.1418,  1.8750],\n",
      "        [ 0.1357,  0.1275,  0.5927],\n",
      "        [ 0.3390,  0.8868, -0.4258]])\n",
      "tensor([[ 0.4573,  0.6082,  0.2314],\n",
      "        [ 3.1350,  0.0340,  1.0678],\n",
      "        [ 0.7953,  1.1418,  1.8750],\n",
      "        [ 0.1357,  0.1275,  0.5927],\n",
      "        [ 0.3390,  0.8868, -0.4258]])\n"
     ]
    }
   ],
   "source": [
    "# Operations\n",
    "\n",
    "# Addition\n",
    "\n",
    "# syntax 1\n",
    "y = torch.rand(5, 3)\n",
    "print(x + y)\n",
    "\n",
    "# syntax 2\n",
    "print(torch.add(x, y))\n",
    "\n",
    "# syntax 3 : providing an output tensor as argument\n",
    "result = torch.empty(5, 3)\n",
    "torch.add(x, y, out=result)\n",
    "print(result)\n",
    "\n",
    "# syntax 4 : addition in-place\n",
    "# adds x to y\n",
    "y.add_(x)\n",
    "print(y)\n",
    "# Any operation that mutates a tensor in-place is post-fixed with an _. For example: x.copy_(y), x.t_(), will change x."
   ]
  },
  {
   "cell_type": "code",
   "execution_count": 11,
   "metadata": {},
   "outputs": [
    {
     "name": "stdout",
     "output_type": "stream",
     "text": [
      "tensor([[-0.4394, -0.3692,  0.0944],\n",
      "        [ 2.2438, -0.1967,  0.5155],\n",
      "        [-0.1491,  0.5565,  1.6025],\n",
      "        [-0.8143, -0.0441, -0.3374],\n",
      "        [ 0.0592,  0.3460, -0.8106]])\n",
      "tensor([-0.3692, -0.1967,  0.5565, -0.0441,  0.3460])\n"
     ]
    }
   ],
   "source": [
    "# you can use standard NumPy-like indexing\n",
    "print(x)\n",
    "print(x[:, 1])"
   ]
  },
  {
   "cell_type": "code",
   "execution_count": 12,
   "metadata": {},
   "outputs": [
    {
     "name": "stdout",
     "output_type": "stream",
     "text": [
      "torch.Size([4, 4]) torch.Size([16]) torch.Size([2, 8])\n"
     ]
    }
   ],
   "source": [
    "# Resizing / Reshaping tensor\n",
    "x = torch.randn(4, 4)\n",
    "y = x.view(16)\n",
    "z = x.view(-1, 8)   # the size -1 is inferred from other dimensions\n",
    "print(x.size(), y.size(), z.size())"
   ]
  },
  {
   "cell_type": "code",
   "execution_count": 13,
   "metadata": {},
   "outputs": [
    {
     "name": "stdout",
     "output_type": "stream",
     "text": [
      "tensor([-0.6357])\n",
      "-0.6357496380805969\n"
     ]
    }
   ],
   "source": [
    "# if you have one value tensor then use .item() to get the value as a Python number.\n",
    "x = torch.randn(1)\n",
    "print(x)\n",
    "print(x.item())"
   ]
  },
  {
   "cell_type": "code",
   "execution_count": 14,
   "metadata": {},
   "outputs": [
    {
     "name": "stdout",
     "output_type": "stream",
     "text": [
      "tensor([1., 1., 1., 1., 1.])\n",
      "[1. 1. 1. 1. 1.]\n",
      "tensor([2., 2., 2., 2., 2.])\n",
      "[2. 2. 2. 2. 2.]\n",
      "[2. 2. 2. 2. 2.]\n",
      "tensor([2., 2., 2., 2., 2.], dtype=torch.float64)\n"
     ]
    }
   ],
   "source": [
    "# Numpy Bridge\n",
    "# Converting a Torch Tensor to a NumPy array and vice versa.\n",
    "# The torch tensor and NumPy array will share their underlying memory locations, and changing one will change the other.\n",
    "\n",
    "# Converting a Torch Tensor to a NumPy Array\n",
    "a = torch.ones(5)\n",
    "print(a)\n",
    "\n",
    "b = a.numpy()\n",
    "print(b)\n",
    "\n",
    "a.add_(1)\n",
    "print(a)\n",
    "print(b)\n",
    "\n",
    "# Converting NumPy Array to Torch Tensor\n",
    "import numpy as np\n",
    "a = np.ones(5)\n",
    "b = torch.from_numpy(a)\n",
    "np.add(a, 1, out=a)\n",
    "print(a)\n",
    "print(b)"
   ]
  },
  {
   "cell_type": "code",
   "execution_count": 15,
   "metadata": {},
   "outputs": [
    {
     "name": "stdout",
     "output_type": "stream",
     "text": [
      "tensor([0.3643], device='cuda:0')\n",
      "tensor([0.3643], dtype=torch.float64)\n"
     ]
    }
   ],
   "source": [
    "# CUDA tensors\n",
    "# tensors can be moved onto any device using .to method.\n",
    "\n",
    "# this cell will run only if CUDA is available\n",
    "# we will use \"torch.device\" objects to move tensors in and out of GPU\n",
    "\n",
    "if torch.cuda.is_available():\n",
    "    device = torch.device(\"cuda\")    # CUDA device object\n",
    "    y = torch.ones_like(x, device=device)    # directly create tensor on GPU\n",
    "    x = x.to(device)    # or just use string '.to(\"cuda\")'\n",
    "    z = x + y\n",
    "    print(z)\n",
    "    print(z.to(\"cpu\", torch.double))    # '.to' can also change dtype together!\n",
    "    "
   ]
  }
 ],
 "metadata": {
  "kernelspec": {
   "display_name": "Python 3",
   "language": "python",
   "name": "python3"
  },
  "language_info": {
   "codemirror_mode": {
    "name": "ipython",
    "version": 3
   },
   "file_extension": ".py",
   "mimetype": "text/x-python",
   "name": "python",
   "nbconvert_exporter": "python",
   "pygments_lexer": "ipython3",
   "version": "3.6.5"
  }
 },
 "nbformat": 4,
 "nbformat_minor": 2
}
